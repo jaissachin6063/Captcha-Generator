{
 "cells": [
  {
   "cell_type": "code",
   "execution_count": 6,
   "id": "27fd9678-23d1-4cb7-ac72-4d1a897b319b",
   "metadata": {},
   "outputs": [
    {
     "name": "stdout",
     "output_type": "stream",
     "text": [
      "Generated CAPTCHA text: M4fFK\n"
     ]
    }
   ],
   "source": [
    "import random\n",
    "import string\n",
    "from PIL import Image, ImageDraw, ImageFont\n",
    "\n",
    "def generate_captcha(length=5):\n",
    "    # Create a random string with uppercase, lowercase letters, and digits\n",
    "    characters = string.ascii_letters + string.digits\n",
    "    captcha_text = ''.join(random.choices(characters, k=length))\n",
    "\n",
    "    # Create an image with white background\n",
    "    image = Image.new('RGB', (150, 60), (255, 255, 255))\n",
    "    draw = ImageDraw.Draw(image)\n",
    "\n",
    "    # Load a font\n",
    "    font = ImageFont.truetype(\"arial.ttf\", 36)\n",
    "\n",
    "    # Draw the text onto the image\n",
    "    draw.text((20, 10), captcha_text, font=font, fill=(0, 0, 0))\n",
    "\n",
    "    # Optionally add some noise lines to make it harder for bots\n",
    "    for _ in range(5):\n",
    "        x1 = random.randint(0, 150)\n",
    "        y1 = random.randint(0, 60)\n",
    "        x2 = random.randint(0, 150)\n",
    "        y2 = random.randint(0, 60)\n",
    "        draw.line(((x1, y1), (x2, y2)), fill=(0, 0, 0), width=2)\n",
    "\n",
    "    # Save the image to a file\n",
    "    image.save('captcha.png')\n",
    "\n",
    "    return captcha_text\n",
    "\n",
    "# Generate a CAPTCHA and print the text\n",
    "captcha_text = generate_captcha()\n",
    "print(f\"Generated CAPTCHA text: {captcha_text}\")\n"
   ]
  },
  {
   "cell_type": "code",
   "execution_count": null,
   "id": "c6c230bf-520c-4470-b3f5-ffcbaaba5468",
   "metadata": {},
   "outputs": [],
   "source": []
  }
 ],
 "metadata": {
  "kernelspec": {
   "display_name": "Python 3 (ipykernel)",
   "language": "python",
   "name": "python3"
  },
  "language_info": {
   "codemirror_mode": {
    "name": "ipython",
    "version": 3
   },
   "file_extension": ".py",
   "mimetype": "text/x-python",
   "name": "python",
   "nbconvert_exporter": "python",
   "pygments_lexer": "ipython3",
   "version": "3.12.4"
  }
 },
 "nbformat": 4,
 "nbformat_minor": 5
}
